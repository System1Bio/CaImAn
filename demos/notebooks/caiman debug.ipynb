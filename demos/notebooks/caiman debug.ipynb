{
 "cells": [
  {
   "cell_type": "markdown",
   "metadata": {},
   "source": [
    "Deugging notebook for Calcium Analysis pipeline\n",
    "\n",
    "This notebook is meant to prevent going through more steps of CaImAn / CalciumAnalyzer.py to have faster iteration cycles for debugging."
   ]
  },
  {
   "cell_type": "code",
   "execution_count": 1,
   "metadata": {},
   "outputs": [
    {
     "name": "stderr",
     "output_type": "stream",
     "text": [
      "/home/ubuntu/anaconda3/lib/python3.6/site-packages/h5py/__init__.py:36: FutureWarning: Conversion of the second argument of issubdtype from `float` to `np.floating` is deprecated. In future, it will be treated as `np.float64 == np.dtype(float).type`.\n",
      "  from ._conv import register_converters as _register_converters\n"
     ]
    },
    {
     "ename": "ModuleNotFoundError",
     "evalue": "No module named 'caiman'",
     "output_type": "error",
     "traceback": [
      "\u001b[0;31m---------------------------------------------------------------------------\u001b[0m",
      "\u001b[0;31mModuleNotFoundError\u001b[0m                       Traceback (most recent call last)",
      "\u001b[0;32m<ipython-input-1-9b09db1182a9>\u001b[0m in \u001b[0;36m<module>\u001b[0;34m()\u001b[0m\n\u001b[1;32m      5\u001b[0m \u001b[0;34m\u001b[0m\u001b[0m\n\u001b[1;32m      6\u001b[0m \u001b[0;31m# from pipeline.calcium.run_cnmf import extract_traces\u001b[0m\u001b[0;34m\u001b[0m\u001b[0;34m\u001b[0m\u001b[0m\n\u001b[0;32m----> 7\u001b[0;31m \u001b[0;32mimport\u001b[0m \u001b[0mcaiman\u001b[0m \u001b[0;32mas\u001b[0m \u001b[0mcm\u001b[0m\u001b[0;34m\u001b[0m\u001b[0m\n\u001b[0m",
      "\u001b[0;31mModuleNotFoundError\u001b[0m: No module named 'caiman'"
     ]
    }
   ],
   "source": [
    "import pipeline\n",
    "import h5py\n",
    "from pathlib import Path\n",
    "from pipeline.H5Loader import H5Loader\n",
    "\n",
    "from pipeline.calcium.run_cnmf import extract_traces\n",
    "import caiman as cm"
   ]
  },
  {
   "cell_type": "code",
   "execution_count": 11,
   "metadata": {},
   "outputs": [],
   "source": [
    "mc_movie_path = 's3://live-calcium-1o1gz12oqk2f0-analysisbucket-19f39b75ey169/Analysis_1884_Run_2007_AutoSubmit/095352-f1-motion-corrected.h5'"
   ]
  },
  {
   "cell_type": "code",
   "execution_count": 30,
   "metadata": {},
   "outputs": [],
   "source": [
    "tmp_mmap = '/tmp/temp_movi_els__d1_1210_d2_710_d3_1_order_F_frames_300_.mmap'"
   ]
  },
  {
   "cell_type": "code",
   "execution_count": 31,
   "metadata": {},
   "outputs": [],
   "source": [
    "tmp_mmap2 = '~/temp_movi_els__d1_1210_d2_710_d3_1_order_F_frames_300_.mmap'"
   ]
  },
  {
   "cell_type": "code",
   "execution_count": 12,
   "metadata": {},
   "outputs": [
    {
     "name": "stderr",
     "output_type": "stream",
     "text": [
      "2019-03-20 22:01:08,347 [6667] INFO     S3Shim: Creating new boto3 client, not using shared client\n",
      "2019-03-20 22:01:08,351 [6667] INFO     S3Shim: S3 GET: {'Bucket': 'live-calcium-1o1gz12oqk2f0-analysisbucket-19f39b75ey169', 'Key': 'Analysis_1884_Run_2007_AutoSubmit/095352-f1-motion-corrected.h5'}\n"
     ]
    }
   ],
   "source": [
    "# After: Takes the mmap, casts it to uint16, puts into dict, saves into hdf5, uploads to s3\n",
    "mc_movie = H5Loader.load_agnostic(mc_movie_path)"
   ]
  },
  {
   "cell_type": "code",
   "execution_count": 15,
   "metadata": {},
   "outputs": [
    {
     "data": {
      "text/plain": [
       "(300, 1210, 710)"
      ]
     },
     "execution_count": 15,
     "metadata": {},
     "output_type": "execute_result"
    }
   ],
   "source": [
    "movie_shape = mc_movie['movie'].shape\n"
   ]
  },
  {
   "cell_type": "code",
   "execution_count": null,
   "metadata": {},
   "outputs": [],
   "source": [
    "movie_shape_reordered = (1210, 710, 300)"
   ]
  },
  {
   "cell_type": "code",
   "execution_count": null,
   "metadata": {},
   "outputs": [],
   "source": [
    "# ipdb> self.movie_shape\n",
    "# (300, 1210, 710)\n",
    "\n",
    "# only needs the mmap file and the movie shape\n",
    "# reoriented = cm.mmapping.save_memmap(movie.mmap_file, order='C')\n",
    "reoriented = cm.mmapping.save_memmap(tmp_mmap, order='C')\n",
    "cnm, cnm2, good_comps_idx, _ = extract_traces(reoriented, 0, movie_shape_reordered)"
   ]
  }
 ],
 "metadata": {
  "kernelspec": {
   "display_name": "Python 3",
   "language": "python",
   "name": "python3"
  },
  "language_info": {
   "codemirror_mode": {
    "name": "ipython",
    "version": 3
   },
   "file_extension": ".py",
   "mimetype": "text/x-python",
   "name": "python",
   "nbconvert_exporter": "python",
   "pygments_lexer": "ipython3",
   "version": "3.6.5"
  }
 },
 "nbformat": 4,
 "nbformat_minor": 2
}
